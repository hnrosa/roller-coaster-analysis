{
 "cells": [
  {
   "cell_type": "markdown",
   "id": "ab3c94a7",
   "metadata": {},
   "source": [
    "# Data Wrangling: Cleaning for a proper analysis"
   ]
  },
  {
   "cell_type": "markdown",
   "id": "9d80293f",
   "metadata": {},
   "source": [
    "In this section, we will clean up the data so that it can be properly analyzed and used in machine learning, selecting relevant information that can provide valuable insights from the data."
   ]
  },
  {
   "cell_type": "code",
   "execution_count": 63,
   "id": "2f25f8b1",
   "metadata": {},
   "outputs": [],
   "source": [
    "import pandas as pd\n",
    "import numpy as np\n",
    "import seaborn as sns\n",
    "import matplotlib.pyplot as plt\n",
    "import re\n",
    "import datetime"
   ]
  },
  {
   "cell_type": "markdown",
   "id": "ba9cad7f",
   "metadata": {},
   "source": [
    "First, let's import the data."
   ]
  },
  {
   "cell_type": "code",
   "execution_count": 64,
   "id": "f5923552",
   "metadata": {},
   "outputs": [
    {
     "name": "stdout",
     "output_type": "stream",
     "text": [
      "<class 'pandas.core.frame.DataFrame'>\n",
      "RangeIndex: 1087 entries, 0 to 1086\n",
      "Data columns (total 56 columns):\n",
      " #   Column                         Non-Null Count  Dtype  \n",
      "---  ------                         --------------  -----  \n",
      " 0   coaster_name                   1087 non-null   object \n",
      " 1   Length                         953 non-null    object \n",
      " 2   Speed                          937 non-null    object \n",
      " 3   Location                       1087 non-null   object \n",
      " 4   Status                         874 non-null    object \n",
      " 5   Opening date                   837 non-null    object \n",
      " 6   Type                           1087 non-null   object \n",
      " 7   Manufacturer                   1028 non-null   object \n",
      " 8   Height restriction             831 non-null    object \n",
      " 9   Model                          744 non-null    object \n",
      " 10  Height                         965 non-null    object \n",
      " 11  Inversions                     932 non-null    float64\n",
      " 12  Lift/launch system             795 non-null    object \n",
      " 13  Cost                           382 non-null    object \n",
      " 14  Trains                         718 non-null    object \n",
      " 15  Park section                   487 non-null    object \n",
      " 16  Duration                       765 non-null    object \n",
      " 17  Capacity                       575 non-null    object \n",
      " 18  G-force                        362 non-null    object \n",
      " 19  Designer                       578 non-null    object \n",
      " 20  Max vertical angle             357 non-null    object \n",
      " 21  Drop                           494 non-null    object \n",
      " 22  Soft opening date              96 non-null     object \n",
      " 23  Fast Lane available            69 non-null     object \n",
      " 24  Replaced                       173 non-null    object \n",
      " 25  Track layout                   335 non-null    object \n",
      " 26  Fastrack available             19 non-null     object \n",
      " 27  Soft opening date.1            96 non-null     object \n",
      " 28  Closing date                   236 non-null    object \n",
      " 29  Opened                         27 non-null     object \n",
      " 30  Replaced by                    88 non-null     object \n",
      " 31  Website                        87 non-null     object \n",
      " 32  Flash Pass Available           50 non-null     object \n",
      " 33  Must transfer from wheelchair  106 non-null    object \n",
      " 34  Theme                          44 non-null     object \n",
      " 35  Single rider line available    81 non-null     object \n",
      " 36  Restraint Style                22 non-null     object \n",
      " 37  Flash Pass available           46 non-null     object \n",
      " 38  Acceleration                   60 non-null     object \n",
      " 39  Restraints                     24 non-null     object \n",
      " 40  Name                           35 non-null     object \n",
      " 41  year_introduced                1087 non-null   int64  \n",
      " 42  latitude                       812 non-null    float64\n",
      " 43  longitude                      812 non-null    float64\n",
      " 44  Type_Main                      1087 non-null   object \n",
      " 45  opening_date_clean             837 non-null    object \n",
      " 46  speed1                         937 non-null    object \n",
      " 47  speed2                         935 non-null    object \n",
      " 48  speed1_value                   937 non-null    float64\n",
      " 49  speed1_unit                    937 non-null    object \n",
      " 50  speed_mph                      937 non-null    float64\n",
      " 51  height_value                   965 non-null    float64\n",
      " 52  height_unit                    965 non-null    object \n",
      " 53  height_ft                      171 non-null    float64\n",
      " 54  Inversions_clean               1087 non-null   int64  \n",
      " 55  Gforce_clean                   362 non-null    float64\n",
      "dtypes: float64(8), int64(2), object(46)\n",
      "memory usage: 475.7+ KB\n"
     ]
    }
   ],
   "source": [
    "df = pd.read_csv('coaster_db.csv')\n",
    "\n",
    "df.info()"
   ]
  },
  {
   "cell_type": "code",
   "execution_count": 65,
   "id": "c2c55d34",
   "metadata": {
    "scrolled": false
   },
   "outputs": [
    {
     "data": {
      "image/png": "[encoded data removed]",
      "text/plain": [
       "<Figure size 2000x600 with 2 Axes>"
      ]
     },
     "metadata": {},
     "output_type": "display_data"
    }
   ],
   "source": [
    "plt.figure(figsize=(20, 6))\n",
    "sns.heatmap(df.isnull());"
   ]
  },
  {
   "cell_type": "code",
   "execution_count": 66,
   "id": "80aef4c6",
   "metadata": {
    "scrolled": true
   },
   "outputs": [
    {
     "name": "stdout",
     "output_type": "stream",
     "text": [
      "Missing information:  29435\n",
      "Total information:  60872\n"
     ]
    }
   ],
   "source": [
    "print('Missing information: ', df.isnull().sum().sum())\n",
    "print('Total information: ', len(df) * len(df.columns))"
   ]
  },
  {
   "cell_type": "markdown",
   "id": "108d68f9",
   "metadata": {},
   "source": [
    "There are some interesting characteristics that we can work with to systematically clean our data. As we proceed with the cleaning process, it is important to be mindful of any potential loss of information that may occur, whether intentionally or not. We must take measures to minimize such losses and preserve the integrity of our data. By doing so, we can ensure that our analysis is based on a reliable and accurate dataset. Here are some of our dataset characteristics:\n",
    "\n",
    "<b>Number of columns: </b>56 <br>\n",
    "\n",
    "<b>Number of numerical features:</b>10 <br>\n",
    "\n",
    "<b>Number of categorical features (object):</b>46 <br>\n",
    "\n",
    "<b>Missing information: </b>29435 out of 60816 (48%) <br>\n",
    "\n",
    "<span style=\"color:red\"> <b> Lost Information: </b> </span> <br> None.\n",
    "\n",
    "Certainly, there may be numerical features that are incorrectly labeled as categorical, such as `Height Restriction`, which can lead to improper data analysis. Therefore, it is essential to conduct a thorough investigation of the data to ensure that each feature is accurately represented in its proper form. By doing so, we can avoid any misinterpretation of the data and ensure that our analysis is reliable and accurate. "
   ]
  },
  {
   "cell_type": "markdown",
   "id": "6461082b",
   "metadata": {},
   "source": [
    "## 1. Raw Features"
   ]
  },
  {
   "cell_type": "markdown",
   "id": "0a4f2bd3",
   "metadata": {},
   "source": [
    "As per the author's description, some features have undergone a cleaning process, but the raw features have not been discarded. We should consider discarding the raw features to avoid any confusion or duplication of data. Additionally, we should address the redundancy issue related to the feature `height_value`, which serves as a complement to `height_ft`. Since both features measure height in feet, we can consider consolidating them into a single feature to eliminate redundancy."
   ]
  },
  {
   "cell_type": "code",
   "execution_count": 67,
   "id": "a75bf80e",
   "metadata": {},
   "outputs": [],
   "source": [
    "ft_ind = (df['height_unit'] == 'ft')\n",
    "\n",
    "df.loc[ft_ind, 'height_ft'] = df.loc[ft_ind, 'height_value'] \n",
    "\n",
    "raw_features = ['G-force', 'Inversions', 'speed1', \n",
    "                'speed2','speed1_value', 'speed1_unit', \n",
    "                'Speed', 'height_unit', 'height_value',\n",
    "                'Height', 'Opening date', 'Opened']\n",
    "\n",
    "df_old = df.copy()\n",
    "\n",
    "df = df.drop(raw_features, axis = 1)"
   ]
  },
  {
   "cell_type": "code",
   "execution_count": 68,
   "id": "4e1a3b90",
   "metadata": {},
   "outputs": [
    {
     "data": {
      "text/plain": [
       "44"
      ]
     },
     "execution_count": 68,
     "metadata": {},
     "output_type": "execute_result"
    }
   ],
   "source": [
    "len(df.columns)"
   ]
  },
  {
   "cell_type": "code",
   "execution_count": 69,
   "id": "14d7e5a3",
   "metadata": {},
   "outputs": [
    {
     "name": "stdout",
     "output_type": "stream",
     "text": [
      "<class 'pandas.core.frame.DataFrame'>\n",
      "RangeIndex: 1087 entries, 0 to 1086\n",
      "Data columns (total 44 columns):\n",
      " #   Column                         Non-Null Count  Dtype  \n",
      "---  ------                         --------------  -----  \n",
      " 0   coaster_name                   1087 non-null   object \n",
      " 1   Length                         953 non-null    object \n",
      " 2   Location                       1087 non-null   object \n",
      " 3   Status                         874 non-null    object \n",
      " 4   Type                           1087 non-null   object \n",
      " 5   Manufacturer                   1028 non-null   object \n",
      " 6   Height restriction             831 non-null    object \n",
      " 7   Model                          744 non-null    object \n",
      " 8   Lift/launch system             795 non-null    object \n",
      " 9   Cost                           382 non-null    object \n",
      " 10  Trains                         718 non-null    object \n",
      " 11  Park section                   487 non-null    object \n",
      " 12  Duration                       765 non-null    object \n",
      " 13  Capacity                       575 non-null    object \n",
      " 14  Designer                       578 non-null    object \n",
      " 15  Max vertical angle             357 non-null    object \n",
      " 16  Drop                           494 non-null    object \n",
      " 17  Soft opening date              96 non-null     object \n",
      " 18  Fast Lane available            69 non-null     object \n",
      " 19  Replaced                       173 non-null    object \n",
      " 20  Track layout                   335 non-null    object \n",
      " 21  Fastrack available             19 non-null     object \n",
      " 22  Soft opening date.1            96 non-null     object \n",
      " 23  Closing date                   236 non-null    object \n",
      " 24  Replaced by                    88 non-null     object \n",
      " 25  Website                        87 non-null     object \n",
      " 26  Flash Pass Available           50 non-null     object \n",
      " 27  Must transfer from wheelchair  106 non-null    object \n",
      " 28  Theme                          44 non-null     object \n",
      " 29  Single rider line available    81 non-null     object \n",
      " 30  Restraint Style                22 non-null     object \n",
      " 31  Flash Pass available           46 non-null     object \n",
      " 32  Acceleration                   60 non-null     object \n",
      " 33  Restraints                     24 non-null     object \n",
      " 34  Name                           35 non-null     object \n",
      " 35  year_introduced                1087 non-null   int64  \n",
      " 36  latitude                       812 non-null    float64\n",
      " 37  longitude                      812 non-null    float64\n",
      " 38  Type_Main                      1087 non-null   object \n",
      " 39  opening_date_clean             837 non-null    object \n",
      " 40  speed_mph                      937 non-null    float64\n",
      " 41  height_ft                      965 non-null    float64\n",
      " 42  Inversions_clean               1087 non-null   int64  \n",
      " 43  Gforce_clean                   362 non-null    float64\n",
      "dtypes: float64(5), int64(2), object(37)\n",
      "memory usage: 373.8+ KB\n"
     ]
    }
   ],
   "source": [
    "df.info()"
   ]
  },
  {
   "cell_type": "code",
   "execution_count": 70,
   "id": "95e4d535",
   "metadata": {},
   "outputs": [
    {
     "name": "stdout",
     "output_type": "stream",
     "text": [
      "Missing information:  25333\n",
      "Total information:  47828\n"
     ]
    }
   ],
   "source": [
    "print('Missing information: ', df.isnull().sum().sum())\n",
    "print('Total information: ', len(df) * len(df.columns))"
   ]
  },
  {
   "cell_type": "markdown",
   "id": "750ba812",
   "metadata": {},
   "source": [
    "<b>Number of columns: </b>44 <br>\n",
    "\n",
    "<b>Number of numerical features:</b>6 <br>\n",
    "\n",
    "<b>Number of categorical features (object):</b>38 <br>\n",
    "\n",
    "<b>Missing information: </b>25333 out of 47828 (52%) <br>\n",
    "\n",
    "<span style=\"color:red\"> <b> Lost Information: </b> </span> <br> Raw text from some numerical features."
   ]
  },
  {
   "cell_type": "markdown",
   "id": "2007b593",
   "metadata": {},
   "source": [
    "## 2. Other Numerical Cleaning"
   ]
  },
  {
   "cell_type": "markdown",
   "id": "09995d80",
   "metadata": {},
   "source": [
    "As previously discussed, some numerical features may have been inaccurately labeled as object types due to the presence of text information in the feature. This can hinder the pandas ability to properly interpret these features as numerical values. However, we have taken steps to address this issue and ensure that all numerical features are accurately represented in our dataset. In the following cells, we have performed a thorough cleaning of each numerical feature, which will enable us to move forward with our analysis confidently and accurately."
   ]
  },
  {
   "cell_type": "markdown",
   "id": "a04cf1ee",
   "metadata": {},
   "source": [
    "### 2.1. Length"
   ]
  },
  {
   "cell_type": "code",
   "execution_count": 71,
   "id": "d05a7d42",
   "metadata": {},
   "outputs": [],
   "source": [
    "length = df.loc[:, 'Length'].str.split('(').str[0]\n",
    "length = length.str.replace(',', '')\n",
    "length_value_unit = length.str.split('\\xa0')\n",
    "length_value = length_value_unit.str[0]\n",
    "length_unit = length_value_unit.str[1]\n",
    "\n",
    "ch_ind1 = (length_value == '2693 or 2700')\n",
    "ch_ind2 = (length_value == '3559.7 ft')\n",
    "ch_ind3 = (length_value == '2759–2798')\n",
    "ch_ind4 = (length_value == '1040[2]')\n",
    "\n",
    "length_value.loc[ch_ind1] = '2693'\n",
    "length_value.loc[ch_ind2] = '3559.7'\n",
    "length_value.loc[ch_ind3] = '2780'\n",
    "length_value.loc[ch_ind4] = '1040'\n",
    "\n",
    "m_ind = (length_unit == 'm')\n",
    "\n",
    "df.loc[:, 'length_ft'] = length_value.astype(float)\n",
    "\n",
    "df.loc[m_ind, 'length_ft'] *= 3.28084\n",
    "\n",
    "df = df.drop('Length', axis = 1)"
   ]
  },
  {
   "cell_type": "markdown",
   "id": "84f40a4f",
   "metadata": {},
   "source": [
    "### 2.2. Drop"
   ]
  },
  {
   "cell_type": "code",
   "execution_count": 72,
   "id": "a1257550",
   "metadata": {
    "scrolled": true
   },
   "outputs": [],
   "source": [
    "fall = df.loc[:, 'Drop'].str.split('(').str[0]\n",
    "fall = fall.str.replace(',', '')\n",
    "fall_value_unit = fall.str.split('\\xa0')\n",
    "fall_value = fall_value_unit.str[0]\n",
    "fall_unit = fall_value_unit.str[1]\n",
    "\n",
    "fall_value_ind = fall_value.str.contains('\\[').fillna(False)\n",
    "fall_value_trash = fall_value[fall_value_ind].str.split('\\[')\n",
    "fall_value_ = fall_value_trash.str[0]\n",
    "\n",
    "fall_value[fall_value_ind] = fall_value_\n",
    "\n",
    "ch_ind1 = (fall_value == '84.5 ft')\n",
    "ch_ind2 = (fall_value == '116.1 ft')\n",
    "\n",
    "fall_value.loc[ch_ind1] = '84.5'\n",
    "fall_value.loc[ch_ind2] = '116.1'\n",
    "\n",
    "m_ind = (fall_unit == 'm')\n",
    "\n",
    "df.loc[:, 'fall_ft'] = fall_value.astype(float)\n",
    "\n",
    "df.loc[m_ind, 'fall_ft'] *= 3.28084\n",
    "\n",
    "df = df.drop('Drop', axis = 1)"
   ]
  },
  {
   "cell_type": "markdown",
   "id": "8cf77cdb",
   "metadata": {},
   "source": [
    "### 2.3. Max Vertical Angle"
   ]
  },
  {
   "cell_type": "code",
   "execution_count": 73,
   "id": "52b10554",
   "metadata": {},
   "outputs": [],
   "source": [
    "angle_value = df.loc[:, 'Max vertical angle'].str.replace('°', '')\n",
    "angle_value.loc[35] = '40'\n",
    "\n",
    "\n",
    "angle_value_ind = angle_value.str.contains('\\[').fillna(False)\n",
    "angle_value_trash = angle_value[angle_value_ind].str.split('\\[')\n",
    "angle_value_ = angle_value_trash.str[0]\n",
    "\n",
    "angle_value[angle_value_ind] = angle_value_\n",
    "\n",
    "angle_value = angle_value.astype(float)\n",
    "\n",
    "df.loc[:, 'max_angle'] = angle_value\n",
    "\n",
    "df = df.drop('Max vertical angle', axis=1)"
   ]
  },
  {
   "cell_type": "markdown",
   "id": "67ed3176",
   "metadata": {},
   "source": [
    "### 2.4. Height Restriction"
   ]
  },
  {
   "cell_type": "code",
   "execution_count": 74,
   "id": "f10a5a62",
   "metadata": {},
   "outputs": [],
   "source": [
    "res = df.loc[:, 'Height restriction'].str.split('(').str[0]\n",
    "res = res.str.replace(',', '')\n",
    "res_value_unit = res.str.split('\\xa0')\n",
    "res_value = res_value_unit.str[0]\n",
    "res_unit = res_value_unit.str[1]\n",
    "\n",
    "res_value_ind = res_value.str.contains('\\[').fillna(False)\n",
    "res_value_trash = res_value[res_value_ind].str.split('\\[')\n",
    "res_value_ = res_value_trash.str[0]\n",
    "\n",
    "res_value[res_value_ind] = res_value_\n",
    "\n",
    "low_up_ind = res_value.str.contains('–').fillna(False)\n",
    "low_up = res_value[low_up_ind].str.split('–')\n",
    "low = low_up.str[0]\n",
    "up = low_up.str[1]\n",
    "\n",
    "res_value.loc[low_up_ind] = low\n",
    "\n",
    "ch_ind1 = (res_value == '42 or 48')\n",
    "ch_ind2 = (res_value == 'Must be able to straddle seat with feet on floor.')\n",
    "ch_ind3 = (res_value == '52 in ')\n",
    "\n",
    "res_value.loc[ch_ind1] = '45'\n",
    "res_value.loc[ch_ind2] = '120'\n",
    "res_value.loc[ch_ind3] = '52'\n",
    "\n",
    "res_unit.loc[ch_ind2] = 'cm ' \n",
    "\n",
    "in_ind = (res_unit == 'in ') | (ch_ind3)\n",
    "ft_ind = (res_unit == 'ft ')\n",
    "\n",
    "df.loc[:, 'height_restriction_low'] = res_value.astype(float)\n",
    "df.loc[:, 'height_restriction_up'] = up.astype(float)\n",
    "\n",
    "df.loc[in_ind, 'height_restriction_low'] *= 2.54\n",
    "df.loc[in_ind, 'height_restriction_up'] *= 2.54\n",
    "\n",
    "df.loc[ft_ind, 'height_restriction_low'] *= 30.48\n",
    "df.loc[ft_ind, 'height_restriction_up'] *= 30.48\n",
    "\n",
    "df = df.drop('Height restriction', axis = 1)"
   ]
  },
  {
   "cell_type": "markdown",
   "id": "bbedb2ea",
   "metadata": {},
   "source": [
    "### 2.5. Duration"
   ]
  },
  {
   "cell_type": "code",
   "execution_count": 75,
   "id": "83874917",
   "metadata": {
    "scrolled": false
   },
   "outputs": [],
   "source": [
    "clock = df.loc[:, 'Duration']\n",
    "\n",
    "\n",
    "remove = ['(25 seconds from launch to brakes)', 'minutes',  'minute', 'mins', 'min', 'm',\n",
    "  'Seconds', 'Second', 'seconds', 'second', 'secs', 'sec', '~', 's', 'About', 'between', \n",
    "          'approx', 'and', '.', ',', '[1]', '[2]', '[3]', '()','(2', 'Under']\n",
    "\n",
    "for r in remove:\n",
    "    clock = clock.str.replace(r, '', regex=False)\n",
    "    \n",
    "clock.loc[ch_ind1] = '48'\n",
    "clock.loc[48] = '1 30'\n",
    "clock.loc[905] = '8'\n",
    "clock.loc[842] = '2'\n",
    "\n",
    "## Alterar separação por ':'\n",
    "clock1_ind = clock.str.contains(':').fillna(False)\n",
    "clock1_min_sec = clock.loc[clock1_ind].str.split(':')\n",
    "clock1_min = clock1_min_sec.str[0]\n",
    "clock1_sec = clock1_min_sec.str[1]\n",
    "\n",
    "\n",
    "# Retirar a referência\n",
    "clock1_sec_ind = clock1_sec.str.contains('\\[').fillna(False)\n",
    "clock1_sec_trash = clock1_sec[clock1_sec_ind].str.split('\\[')\n",
    "clock1_sec_ = clock1_sec_trash.str[0]\n",
    "clock1_sec[clock1_sec_ind] = clock1_sec_\n",
    "\n",
    "clock.loc[clock1_ind] = np.nan\n",
    "\n",
    "## Alterar separação por ' '\n",
    "clock2_ind = clock.str.contains(' ').fillna(False)\n",
    "clock2_min_sec = clock.loc[clock2_ind].str.split(' ')\n",
    "clock2_min = clock2_min_sec.str[0]\n",
    "clock2_sec = clock2_min_sec.str[1]\n",
    "\n",
    "clock.loc[clock2_ind] = np.nan\n",
    "clock2_min.loc[clock2_min == ''] = 0\n",
    "clock2_sec.loc[clock2_sec == ''] = 0\n",
    "\n",
    "clock3_min = clock.dropna()\n",
    "\n",
    "clock1_min = clock1_min.astype(float)\n",
    "clock1_sec = clock1_sec.astype(float)\n",
    "clock2_min = clock2_min.astype(float)\n",
    "clock2_sec = clock2_sec.astype(float)\n",
    "clock3_min = clock3_min.astype(float)\n",
    "\n",
    "df.loc[:, 'ride_min'] = np.nan\n",
    "df.loc[clock1_min.index, 'ride_min'] = clock1_min\n",
    "df.loc[clock2_min.index, 'ride_min'] = clock2_min\n",
    "df.loc[clock3_min.index, 'ride_min'] = clock3_min\n",
    "\n",
    "df.loc[:, 'ride_sec'] = np.nan\n",
    "df.loc[clock1_sec.index, 'ride_sec'] = clock1_sec\n",
    "df.loc[clock2_sec.index, 'ride_sec'] = clock2_sec\n",
    "\n",
    "secs_mask = (df.loc[:, 'ride_min'] > 10)\n",
    "mins_mask = (df.loc[:, 'ride_sec'] < 10) & (df.loc[:, 'ride_min'] == 0.)\n",
    "\n",
    "df.loc[secs_mask, 'ride_sec'] = df.loc[secs_mask, 'ride_min']\n",
    "df.loc[secs_mask, 'ride_min'] = 0\n",
    "\n",
    "df.loc[mins_mask, 'ride_min'] = df.loc[mins_mask, 'ride_sec']\n",
    "df.loc[mins_mask, 'ride_sec'] = 0\n",
    "\n",
    "df.loc[:, 'duration'] = df.loc[:, 'ride_sec'] + 60 * df.loc[:, 'ride_min']\n",
    "\n",
    "df.loc[:, 'duration']\n",
    "\n",
    "df = df.drop(['Duration', 'ride_min', 'ride_sec'], axis = 1)"
   ]
  },
  {
   "cell_type": "markdown",
   "id": "c5bb6f9c",
   "metadata": {},
   "source": [
    "### 2.6. Capacity"
   ]
  },
  {
   "cell_type": "code",
   "execution_count": 76,
   "id": "8fe347f9",
   "metadata": {},
   "outputs": [],
   "source": [
    "capacity = df.loc[:, 'Capacity'].copy()\n",
    "\n",
    "removes = ['riders per hour', '(Estimated)', '\\[1\\]', '\\[2\\]', '\\[3\\]', '~', ',',\n",
    "           '\\(Currently 192\\)', '\\(\\)', 'max.']\n",
    "\n",
    "for r in removes:\n",
    "    capacity = capacity.str.replace(r, '', regex=True)\n",
    "\n",
    "ch_ind1 = (capacity == '1280–1400 ')\n",
    "ch_ind2 = (capacity == '600-675 ')\n",
    "ch_ind3 = (capacity == '1100-1500 ')\n",
    "ch_ind4 = (capacity == '700-800 ')\n",
    "ch_ind5 = (capacity == '480-720 ')\n",
    "ch_ind6 = (capacity == '155000')\n",
    "\n",
    "capacity.loc[ch_ind1] = '1400'\n",
    "capacity.loc[ch_ind2] = '675'\n",
    "capacity.loc[ch_ind3] = '1500'\n",
    "capacity.loc[ch_ind4] = '800'\n",
    "capacity.loc[ch_ind5] = '720'\n",
    "capacity.loc[ch_ind6] = '1550'\n",
    "capacity.loc[144] = '2057'\n",
    "capacity.loc[970] = '720'\n",
    "    \n",
    "df.loc[:, 'riders_per_hour'] = capacity.astype(float)\n",
    "\n",
    "df = df.drop('Capacity', axis = 1)"
   ]
  },
  {
   "cell_type": "markdown",
   "id": "b2d81101",
   "metadata": {},
   "source": [
    "### 2.7. Riders Per Train"
   ]
  },
  {
   "cell_type": "code",
   "execution_count": 77,
   "id": "bf1db492",
   "metadata": {},
   "outputs": [],
   "source": [
    "trains = df.loc[:, 'Trains']\n",
    "\n",
    "trains = trains.str.split('of').str[1]\n",
    "\n",
    "trains = trains.str.replace('riders per train','', regex = False)\n",
    "trains = trains.str.replace('.', '', regex = False)\n",
    "\n",
    "\n",
    "trains.loc[238] = 6\n",
    "trains.loc[296] = 6\n",
    "trains.loc[639] = 32\n",
    "trains.loc[615] = 32\n",
    "trains.loc[700] = 34\n",
    "trains.loc[943] = 24\n",
    "\n",
    "df.loc[:, 'riders_per_train'] = trains.astype(float)\n",
    "\n",
    "df = df.drop('Trains', axis=1)"
   ]
  },
  {
   "cell_type": "markdown",
   "id": "e10592c6",
   "metadata": {},
   "source": [
    "### 2.8. Closing date"
   ]
  },
  {
   "cell_type": "code",
   "execution_count": 78,
   "id": "20f2989f",
   "metadata": {
    "scrolled": false
   },
   "outputs": [],
   "source": [
    "close_date = df.loc[:, 'Closing date']\n",
    "\n",
    "months = ['January', 'February', 'March', 'April', 'May',\n",
    "          'June', 'July', 'August', 'September', 'October',\n",
    "          'November', 'December', ',']\n",
    "\n",
    "other = [r'(Barnstormer)', r'(as Mulholland Madness)', \n",
    "         r'[1]', r'Tower of Terror 11)', r'(original)', 's']\n",
    "\n",
    "'3  2019Tower of Terror ll)'\n",
    "\n",
    "for m in months:\n",
    "    close_date = close_date.str.replace(m, '')\n",
    "\n",
    "for o in other:\n",
    "    close_date = close_date.str.replace(o, '', regex=False)\n",
    "    \n",
    "ch_ind1 = (close_date == '3\\xa0\\xa02019Tower of Terror ll)')\n",
    "\n",
    "close_date.loc[ch_ind1] = '2019'\n",
    "close_date = close_date.str.strip().str.split(' ')\n",
    "close_year = close_date.str[-1]\n",
    "close_year = close_year.str.split('\\xa0')\n",
    "close_year = close_year.str[-1]\n",
    "ch_ind2 = (close_year == '20042007')\n",
    "\n",
    "close_year.loc[ch_ind2] = '2007'\n",
    "\n",
    "df.loc[:, 'close_year'] = close_year.astype(float)\n",
    "\n",
    "df = df.drop('Closing date', axis = 1)"
   ]
  },
  {
   "cell_type": "code",
   "execution_count": 79,
   "id": "090f1b7d",
   "metadata": {
    "scrolled": false
   },
   "outputs": [
    {
     "name": "stdout",
     "output_type": "stream",
     "text": [
      "<class 'pandas.core.frame.DataFrame'>\n",
      "RangeIndex: 1087 entries, 0 to 1086\n",
      "Data columns (total 45 columns):\n",
      " #   Column                         Non-Null Count  Dtype  \n",
      "---  ------                         --------------  -----  \n",
      " 0   coaster_name                   1087 non-null   object \n",
      " 1   Location                       1087 non-null   object \n",
      " 2   Status                         874 non-null    object \n",
      " 3   Type                           1087 non-null   object \n",
      " 4   Manufacturer                   1028 non-null   object \n",
      " 5   Model                          744 non-null    object \n",
      " 6   Lift/launch system             795 non-null    object \n",
      " 7   Cost                           382 non-null    object \n",
      " 8   Park section                   487 non-null    object \n",
      " 9   Designer                       578 non-null    object \n",
      " 10  Soft opening date              96 non-null     object \n",
      " 11  Fast Lane available            69 non-null     object \n",
      " 12  Replaced                       173 non-null    object \n",
      " 13  Track layout                   335 non-null    object \n",
      " 14  Fastrack available             19 non-null     object \n",
      " 15  Soft opening date.1            96 non-null     object \n",
      " 16  Replaced by                    88 non-null     object \n",
      " 17  Website                        87 non-null     object \n",
      " 18  Flash Pass Available           50 non-null     object \n",
      " 19  Must transfer from wheelchair  106 non-null    object \n",
      " 20  Theme                          44 non-null     object \n",
      " 21  Single rider line available    81 non-null     object \n",
      " 22  Restraint Style                22 non-null     object \n",
      " 23  Flash Pass available           46 non-null     object \n",
      " 24  Acceleration                   60 non-null     object \n",
      " 25  Restraints                     24 non-null     object \n",
      " 26  Name                           35 non-null     object \n",
      " 27  year_introduced                1087 non-null   int64  \n",
      " 28  latitude                       812 non-null    float64\n",
      " 29  longitude                      812 non-null    float64\n",
      " 30  Type_Main                      1087 non-null   object \n",
      " 31  opening_date_clean             837 non-null    object \n",
      " 32  speed_mph                      937 non-null    float64\n",
      " 33  height_ft                      965 non-null    float64\n",
      " 34  Inversions_clean               1087 non-null   int64  \n",
      " 35  Gforce_clean                   362 non-null    float64\n",
      " 36  length_ft                      953 non-null    float64\n",
      " 37  fall_ft                        494 non-null    float64\n",
      " 38  max_angle                      357 non-null    float64\n",
      " 39  height_restriction_low         831 non-null    float64\n",
      " 40  height_restriction_up          96 non-null     float64\n",
      " 41  duration                       763 non-null    float64\n",
      " 42  riders_per_hour                575 non-null    float64\n",
      " 43  riders_per_train               716 non-null    float64\n",
      " 44  close_year                     236 non-null    float64\n",
      "dtypes: float64(14), int64(2), object(29)\n",
      "memory usage: 382.3+ KB\n"
     ]
    }
   ],
   "source": [
    "df.info()"
   ]
  },
  {
   "cell_type": "code",
   "execution_count": 80,
   "id": "67b65bb3",
   "metadata": {},
   "outputs": [
    {
     "name": "stdout",
     "output_type": "stream",
     "text": [
      "Missing information:  26328\n",
      "Total information:  48915\n"
     ]
    }
   ],
   "source": [
    "print('Missing information: ', df.isnull().sum().sum())\n",
    "print('Total information: ', len(df) * len(df.columns))"
   ]
  },
  {
   "cell_type": "markdown",
   "id": "5f67afdf",
   "metadata": {},
   "source": [
    "<b>Number of columns: </b>45 <br>\n",
    "\n",
    "<b>Number of numerical features:</b>16 <br>\n",
    "\n",
    "<b>Number of categorical features (object): </b>29 <br>\n",
    "\n",
    "<b>Missing information: </b>26328 out of 48915 (54%) <br>\n",
    "\n",
    "<span style=\"color:red\"> <b> Lost Information: </b> </span> <br> Raw text from some numerical features. <br>\n",
    "Intervals and Subjective Definitions (Approximations and Conditions) <br>\n",
    "Closing dates months and days, only years were preserved.\n"
   ]
  },
  {
   "cell_type": "markdown",
   "id": "15924bdb",
   "metadata": {},
   "source": [
    "## 3. Binary Features"
   ]
  },
  {
   "cell_type": "markdown",
   "id": "c3b35a79",
   "metadata": {},
   "source": [
    "Several binary features in our dataset contain a significant amount of missing data. Upon closer inspection, it was determined that this may be due to the fact that the instances where the feature value is `True` are the only ones where data is not missing. Therefore, we can impute the missing data with the value `False` or `0`."
   ]
  },
  {
   "cell_type": "code",
   "execution_count": 81,
   "id": "ca6e6077",
   "metadata": {},
   "outputs": [],
   "source": [
    "df.loc[:, 'first_soft_open'] = df.loc[:, 'Soft opening date'].notnull()\n",
    "df.loc[:, 'second_soft_open'] = df.loc[:, 'Soft opening date.1'].notnull()\n",
    "\n",
    "df = df.drop(['Soft opening date', 'Soft opening date.1'], axis = 1)"
   ]
  },
  {
   "cell_type": "code",
   "execution_count": 82,
   "id": "f52f5e75",
   "metadata": {
    "scrolled": false
   },
   "outputs": [],
   "source": [
    "binaries = ['Fast Lane available', 'Fastrack available', 'Flash Pass Available',\n",
    "'Website', 'Single rider line available', 'Must transfer from wheelchair']\n",
    "\n",
    "df_ = df.copy()\n",
    "\n",
    "\n",
    "for b in binaries:\n",
    "    mask = df_.loc[:, b].notnull()\n",
    "    df_.loc[mask, b] = 1\n",
    "    df_.loc[~mask, b] = 0\n",
    "\n",
    "\n",
    "df = df_.copy()"
   ]
  },
  {
   "cell_type": "code",
   "execution_count": 84,
   "id": "87d1ea52",
   "metadata": {
    "scrolled": true
   },
   "outputs": [],
   "source": [
    "df.loc[df['Replaced'].notnull(), 'Replaced'] = 1\n",
    "df.loc[df['Replaced by'].notnull(), 'Replaced by'] = 1\n",
    "df.loc[:, 'Replaced'] = df.loc[:, 'Replaced'].fillna(0)\n",
    "df.loc[:, 'Replaced by'] = df.loc[:, 'Replaced by'].fillna(0)\n",
    "\n",
    "df.loc[:, 'replaced'] = df.loc[:, 'Replaced'] + df.loc[:, 'Replaced by']"
   ]
  },
  {
   "cell_type": "code",
   "execution_count": 85,
   "id": "554bb94d",
   "metadata": {},
   "outputs": [],
   "source": [
    "df_lift_launch = df.loc[:, 'Lift/launch system'].copy()\n",
    "\n",
    "df_lift_index = df_lift_launch.str.lower(\n",
    ").str.contains('lift|chain|wheel|tire|cable|gravity|friction').fillna(False)\n",
    "\n",
    "df_launch_index = df_lift_launch.str.lower(\n",
    ").str.contains('launch|motor|lsm|lim|power|both|propulsion|pneumatic').fillna(False)\n",
    "\n",
    "df_lift_launch.loc[df_lift_index] = 'lift'\n",
    "df_lift_launch.loc[df_launch_index] = 'launch'\n",
    "\n",
    "\n",
    "df.loc[:,'lift_launch'] = df_lift_launch\n",
    "\n",
    "df = df.drop('Lift/launch system', axis=1)"
   ]
  },
  {
   "cell_type": "code",
   "execution_count": 86,
   "id": "ec565a6f",
   "metadata": {},
   "outputs": [
    {
     "name": "stdout",
     "output_type": "stream",
     "text": [
      "<class 'pandas.core.frame.DataFrame'>\n",
      "RangeIndex: 1087 entries, 0 to 1086\n",
      "Data columns (total 46 columns):\n",
      " #   Column                         Non-Null Count  Dtype  \n",
      "---  ------                         --------------  -----  \n",
      " 0   coaster_name                   1087 non-null   object \n",
      " 1   Location                       1087 non-null   object \n",
      " 2   Status                         874 non-null    object \n",
      " 3   Type                           1087 non-null   object \n",
      " 4   Manufacturer                   1028 non-null   object \n",
      " 5   Model                          744 non-null    object \n",
      " 6   Cost                           382 non-null    object \n",
      " 7   Park section                   487 non-null    object \n",
      " 8   Designer                       578 non-null    object \n",
      " 9   Fast Lane available            1087 non-null   object \n",
      " 10  Replaced                       1087 non-null   int64  \n",
      " 11  Track layout                   335 non-null    object \n",
      " 12  Fastrack available             1087 non-null   object \n",
      " 13  Replaced by                    1087 non-null   int64  \n",
      " 14  Website                        1087 non-null   object \n",
      " 15  Flash Pass Available           1087 non-null   object \n",
      " 16  Must transfer from wheelchair  1087 non-null   object \n",
      " 17  Theme                          44 non-null     object \n",
      " 18  Single rider line available    1087 non-null   object \n",
      " 19  Restraint Style                22 non-null     object \n",
      " 20  Flash Pass available           46 non-null     object \n",
      " 21  Acceleration                   60 non-null     object \n",
      " 22  Restraints                     24 non-null     object \n",
      " 23  Name                           35 non-null     object \n",
      " 24  year_introduced                1087 non-null   int64  \n",
      " 25  latitude                       812 non-null    float64\n",
      " 26  longitude                      812 non-null    float64\n",
      " 27  Type_Main                      1087 non-null   object \n",
      " 28  opening_date_clean             837 non-null    object \n",
      " 29  speed_mph                      937 non-null    float64\n",
      " 30  height_ft                      965 non-null    float64\n",
      " 31  Inversions_clean               1087 non-null   int64  \n",
      " 32  Gforce_clean                   362 non-null    float64\n",
      " 33  length_ft                      953 non-null    float64\n",
      " 34  fall_ft                        494 non-null    float64\n",
      " 35  max_angle                      357 non-null    float64\n",
      " 36  height_restriction_low         831 non-null    float64\n",
      " 37  height_restriction_up          96 non-null     float64\n",
      " 38  duration                       763 non-null    float64\n",
      " 39  riders_per_hour                575 non-null    float64\n",
      " 40  riders_per_train               716 non-null    float64\n",
      " 41  close_year                     236 non-null    float64\n",
      " 42  first_soft_open                1087 non-null   bool   \n",
      " 43  second_soft_open               1087 non-null   bool   \n",
      " 44  replaced                       1087 non-null   int64  \n",
      " 45  lift_launch                    795 non-null    object \n",
      "dtypes: bool(2), float64(14), int64(5), object(25)\n",
      "memory usage: 375.9+ KB\n"
     ]
    }
   ],
   "source": [
    "df.info()"
   ]
  },
  {
   "cell_type": "code",
   "execution_count": 87,
   "id": "d25155a7",
   "metadata": {},
   "outputs": [
    {
     "name": "stdout",
     "output_type": "stream",
     "text": [
      "Missing information:  16323\n",
      "Total information:  50002\n"
     ]
    }
   ],
   "source": [
    "print('Missing information: ', df.isnull().sum().sum())\n",
    "print('Total information: ', len(df) * len(df.columns))"
   ]
  },
  {
   "cell_type": "markdown",
   "id": "61dcea02",
   "metadata": {},
   "source": [
    "<b>Number of columns: </b>46 <br>\n",
    "\n",
    "<b>Number of numerical features:</b>21 <br>\n",
    "\n",
    "<b>Number of categorical features (object): </b>25 <br>\n",
    "\n",
    "<b>Missing information: </b>16323 out of 50002 (32%) <br>\n",
    "\n",
    "<span style=\"color:red\"> <b> Lost Information: </b> </span> <br> Soft opening dates. <br>\n",
    "Replaced names. <br>\n",
    "Website names. <br>"
   ]
  },
  {
   "cell_type": "markdown",
   "id": "f26a01e8",
   "metadata": {},
   "source": [
    "## 4. Cardinality Reduction"
   ]
  },
  {
   "cell_type": "markdown",
   "id": "89b85cac",
   "metadata": {},
   "source": [
    "High cardinality is a problem for data analysis. Features are more difficult to interpret due to the large number of categories, making it hard to identify which features are most relevant for making predictions or drawing insights. For machine learning,  high cardinality features can lead to a large number of parameters in a model, which can cause overfitting."
   ]
  },
  {
   "cell_type": "code",
   "execution_count": 88,
   "id": "b714d0a1",
   "metadata": {
    "scrolled": false
   },
   "outputs": [],
   "source": [
    "status = df.loc[:, 'Status'].str.lower()\n",
    "\n",
    "closed = ['discontinued', 'closed in 2021', 'removed', 'sbno december 2019', \n",
    " 'chapter 7 bankruptcy; rides dismantled and sold; property sold',\n",
    "'sbno (standing but not operating)', 'not currently operating', ]\n",
    "\n",
    "operating = ['temporarily closed', 'under maintenance',\n",
    "             'closed for maintenance as of july 30 no reopening date known']\n",
    "\n",
    "in_prod = ['in production', 'under construction']\n",
    "\n",
    "for c in closed:\n",
    "    status = status.str.replace(c, 'closed', regex=False)\n",
    "    \n",
    "for o in operating:\n",
    "    status = status.str.replace(o, 'operating', regex=False)\n",
    "    \n",
    "for i in in_prod:\n",
    "    status = status.str.replace(i, 'in production', regex=False)\n",
    "    \n",
    "df.loc[:, 'Status'] = status"
   ]
  },
  {
   "cell_type": "code",
   "execution_count": 89,
   "id": "a45b8f78",
   "metadata": {
    "scrolled": true
   },
   "outputs": [
    {
     "data": {
      "text/plain": [
       "operating        672\n",
       "closed           176\n",
       "in production     26\n",
       "Name: Status, dtype: int64"
      ]
     },
     "execution_count": 89,
     "metadata": {},
     "output_type": "execute_result"
    }
   ],
   "source": [
    "df['Status'].value_counts()"
   ]
  },
  {
   "cell_type": "code",
   "execution_count": 90,
   "id": "88509eb0",
   "metadata": {},
   "outputs": [],
   "source": [
    "remove = ['roller', 'coaster', '[1]', '[2]',\n",
    "          'wooden', 'wood', 'steel', 'stacked',\n",
    "          'mega', 'compact', 'modified', 'indoor', 'loop',\n",
    "          'impulse', 'design', 'layout', 'interlocking',\n",
    "          'with one station', 'custom ', ' custom', 'l-shaped',\n",
    "          'triple', 'double', 'raceway-style']\n",
    "\n",
    "track_layout = df.loc[:, 'Track layout'].str.lower()\n",
    "track_layout = track_layout.str.replace('figure eight', 'figure 8')\n",
    "track_layout = track_layout.str.replace('figure-8', 'figure 8')\n",
    "track_layout = track_layout.str.replace('out-and-back', 'out and back')\n",
    "track_layout = track_layout.str.replace('out & back', 'out and back')\n",
    "track_layout = track_layout.str.replace('dual overbank', 'double')\n",
    "track_layout = track_layout.str.replace('möbius loop', 'dual-tracked')\n",
    "track_layout = track_layout.str.replace('twisted', 'twister')\n",
    "track_layout = track_layout.str.replace('coney island cyclone (mirror image)', 'cyclone', regex = False)\n",
    "track_layout = track_layout.str.replace('double out and back figure 8', 'out and back')\n",
    "track_layout = track_layout.str.replace('terrain twister', 'terrain')\n",
    "track_layout = track_layout.str.replace('out and back helix and twister', 'out and back')\n",
    "track_layout = track_layout.str.replace('out and backtwister', 'out and back')\n",
    "track_layout = track_layout.str.replace('l-shaped', '')\n",
    "track_layout = track_layout.str.replace('single helix (center)', 'helix', regex = False)\n",
    "\n",
    "\n",
    "track_layout1_ind =  track_layout.str.contains('/').fillna(False)\n",
    "track_layout1 = track_layout.loc[track_layout1_ind].str.split('/').str[0]\n",
    "track_layout2_ind =  track_layout.str.contains(',').fillna(False)\n",
    "track_layout2 = track_layout.loc[track_layout2_ind].str.split(',').str[0]\n",
    "track_layout3_ind =  track_layout.str.contains('infinity').fillna(False)\n",
    "\n",
    "track_layout.loc[track_layout1_ind] = track_layout1\n",
    "track_layout.loc[track_layout2_ind] = track_layout2\n",
    "track_layout.loc[track_layout3_ind] = 'infinity'\n",
    "\n",
    "\n",
    "\n",
    "for r in remove:\n",
    "    track_layout = track_layout.str.replace(r, '', regex=False)\n",
    "    \n",
    "track_layout.loc[track_layout == ''] = np.nan\n",
    "track_layout = track_layout.str.strip()\n",
    "    \n",
    "ch_ind1 = (track_layout == 'metal track in an overlapping and  figure-eight configuration')\n",
    "ch_ind2 = (track_layout == 'terrain  twister out and back')\n",
    "ch_ind3 = (track_layout == 'single helix (center)')\n",
    "\n",
    "\n",
    "track_layout.loc[ch_ind1] = 'figure 8'\n",
    "track_layout.loc[ch_ind2] = 'terrain'\n",
    "track_layout.loc[ch_ind3] = 'helix'\n",
    "\n",
    "\n",
    "ind_tracks = (track_layout.value_counts() < 3)\n",
    "custom_tracks = track_layout.value_counts().loc[ind_tracks].index\n",
    "\n",
    "ind_custom_tracks = track_layout.isin(custom_tracks)\n",
    "track_layout.loc[ind_custom_tracks] = 'custom'\n",
    "\n",
    "df.loc[:, 'track_layout'] = track_layout\n",
    "df = df.drop('Track layout', axis=1)"
   ]
  },
  {
   "cell_type": "code",
   "execution_count": 91,
   "id": "4f975091",
   "metadata": {
    "scrolled": false
   },
   "outputs": [
    {
     "name": "stdout",
     "output_type": "stream",
     "text": [
      "out and back    81\n",
      "custom          55\n",
      "terrain         53\n",
      "twister         51\n",
      "wild mouse      18\n",
      "figure 8        17\n",
      "oval            13\n",
      "dual-tracked     6\n",
      "shuttle          6\n",
      "helix            5\n",
      "water            5\n",
      "cyclone          3\n",
      "hot wheels       3\n",
      "infinity         3\n"
     ]
    }
   ],
   "source": [
    "print(df['track_layout'].value_counts().to_string())"
   ]
  },
  {
   "cell_type": "code",
   "execution_count": 92,
   "id": "3457f634",
   "metadata": {},
   "outputs": [],
   "source": [
    "model = df.loc[:, 'Model'].str.lower()\n",
    "\n",
    "model_ind = model.str.contains('lift|chain|wheel|tire|cable|gravity|friction').fillna(False)\n",
    "df.loc[model_ind, 'lift_launch'] = 'lift'\n",
    "\n",
    "model = model.str.replace('wilde maus', 'wild mouse', regex=False)\n",
    "model = model.str.replace('wild maus', 'wild mouse', regex=False)\n",
    "model = model.str.replace('mad mouse', 'wild mouse', regex=False)\n",
    "model = model.str.replace('twisted', 'twister', regex=False)\n",
    "model = model.str.replace('stand up', 'stand-up', regex=False)\n",
    "model = model.str.replace('hurricane', 'cyclone', regex=False)\n",
    "model = model.str.replace('launched', 'launch', regex=False)\n",
    "model = model.str.replace('eurofighter', 'euro-fighter', regex=False)\n",
    "model = model.str.replace('bigdipper', 'big dipper', regex=False)\n",
    "model = model.str.replace('figure eight', 'figure 8', regex=False)\n",
    "model = model.str.replace('inversion', 'inverted', regex=False)\n",
    "model = model.str.replace('motorbike', 'motor bike', regex=False)\n",
    "model = model.str.replace('systems', 'custom', regex=False)\n",
    "model = model.str.replace('whirlwind', 'cyclone', regex=False)\n",
    "model = model.str.replace('ibox', 'i-box', regex=False)\n",
    "model = model.str.replace('moto', 'motor bike', regex=False)\n",
    "model = model.str.replace('sitdown', 'sit down', regex=False)\n",
    "model = model.str.replace('4d', '4th dimension', regex=False)\n",
    "model = model.str.replace('(prefabricated\\xa0track)', 'custom', regex=False)\n",
    "model = model.str.replace('(prefabricated track)', 'custom', regex=False)\n",
    "model = model.str.replace('free fly', 'freefall', regex=False)\n",
    "model = model.str.replace('silverarrow', 'silver arrow', regex=False)\n",
    "model = model.str.replace('powersplash', 'powered', regex=False)\n",
    "model = model.str.replace('out-and-back', 'out and back', regex=False)\n",
    "model = model.str.replace('looper', 'looping', regex=False)\n",
    "model = model.str.replace('muti-loop', 'looping', regex=False)\n",
    "\n",
    "change = ['inverted', 'hyper', 'junior', 'i-box',\n",
    "          'mine train', 'boomerang', 'floorless', \n",
    "          'flying', 'dive', 'stand-up', 'wild mouse',\n",
    "          'launch', 'suspended family', 'suspended looping',\n",
    "          'mk', 'twister', 'half pipe', 'cyclone',\n",
    "          'corkscrew', 'wildcat', 'jet', 'sky rocket',\n",
    "          'shuttle', 'spinning', 'bobsled', 'force',\n",
    "          'euro-fighter', 'accelerator', '4th dimension',\n",
    "          'infinity', 'powered', 'wing', 'racing',\n",
    "          'sitting', 'water', 'blitz', 'x-car', 'raptor',\n",
    "          'tivoli', 'lsm', 'lim', 'slc', 'motor bike', 'el loco',\n",
    "          'out and back', 'swiss bob', '4th dimension', \n",
    "          '144a', 'toboggan', 'xtended', 'topper', 'freefall',\n",
    "          'sit down']\n",
    "\n",
    "remove = ['roller', 'coaster', 'modified', 'mega',\n",
    "          'wooden', 'design', 'compact', 'double',\n",
    "          'triple','gravity  80std', 'steel', 'wood',\n",
    "          'star', '(with additional trackway curve)',\n",
    "          '(colossus)', 'special', 's/16ft oval w/helix on left',\n",
    "          'intamin –', 'speedracer', 'catapult', 'hybrid','lift packed'] \n",
    "\n",
    "for c in change:\n",
    "    model_ind =  model.str.contains(c).fillna(False)\n",
    "    model.loc[model_ind] = c\n",
    "    \n",
    "for r in remove:\n",
    "    model = model.str.replace(r, '', regex=False)\n",
    "    \n",
    "model = model.str.strip()\n",
    "\n",
    "model.loc[model == ''] = np.nan"
   ]
  },
  {
   "cell_type": "code",
   "execution_count": 93,
   "id": "d5da0cbe",
   "metadata": {},
   "outputs": [],
   "source": [
    "model_ind = model.str.contains('launch|lsm|lim').fillna(False)\n",
    "df.loc[model_ind, 'lift_launch'] = 'launch'\n",
    "model.loc[model_ind] = np.nan"
   ]
  },
  {
   "cell_type": "code",
   "execution_count": 94,
   "id": "5c4f9450",
   "metadata": {
    "scrolled": false
   },
   "outputs": [],
   "source": [
    "for m in model.value_counts().index:\n",
    "    if m == 'custom':\n",
    "        continue\n",
    "    if m in df['track_layout'].value_counts().index:\n",
    "        \n",
    "        mask1 = (model  == m)\n",
    "        df_ = df.loc[mask1, 'track_layout'].isnull()\n",
    "        mask2 = df_.loc[df_].index\n",
    "        \n",
    "        if len(mask2):\n",
    "            df.loc[mask2, 'track_layout'] = m\n",
    "            model[mask1] = np.nan"
   ]
  },
  {
   "cell_type": "code",
   "execution_count": 95,
   "id": "2e391643",
   "metadata": {},
   "outputs": [
    {
     "data": {
      "text/plain": [
       "721"
      ]
     },
     "execution_count": 95,
     "metadata": {},
     "output_type": "execute_result"
    }
   ],
   "source": [
    "df['track_layout'].isnull().sum()"
   ]
  },
  {
   "cell_type": "code",
   "execution_count": 96,
   "id": "9d8e66c4",
   "metadata": {},
   "outputs": [],
   "source": [
    "ind_model = (model.value_counts() < 3)\n",
    "custom_model = model.value_counts().loc[ind_model].index\n",
    "\n",
    "ind_custom_model = model.isin(custom_model)\n",
    "model.loc[ind_custom_model] = 'custom'\n",
    "\n",
    "df.loc[:, 'model'] = model\n",
    "df = df.drop('Model', axis=1)"
   ]
  },
  {
   "cell_type": "code",
   "execution_count": 97,
   "id": "0ab2f4f7",
   "metadata": {},
   "outputs": [
    {
     "name": "stdout",
     "output_type": "stream",
     "text": [
      "custom               92\n",
      "inverted             41\n",
      "hyper                30\n",
      "junior               26\n",
      "i-box                24\n",
      "boomerang            21\n",
      "mine train           21\n",
      "floorless            21\n",
      "family               18\n",
      "looping              17\n",
      "dive                 16\n",
      "custom looping       15\n",
      "stand-up             14\n",
      "flying               14\n",
      "suspended looping    13\n",
      "corkscrew            13\n",
      "4th dimension        13\n",
      "suspended family     13\n",
      "jet                  12\n",
      "wing                 11\n",
      "accelerator          11\n",
      "euro-fighter         10\n",
      "powered               9\n",
      "suspended             9\n",
      "little dipper         9\n",
      "bobsled               8\n",
      "blitz                 8\n",
      "slc                   8\n",
      "spinning              8\n",
      "sitting               7\n",
      "mk                    7\n",
      "wildcat               7\n",
      "racing                7\n",
      "half pipe             6\n",
      "motor bike            6\n",
      "sit down              6\n",
      "sky rocket            6\n",
      "el loco               5\n",
      "raptor                5\n",
      "big dipper            5\n",
      "tivoli                5\n",
      "swiss bob             5\n",
      "xtended               4\n",
      "force                 4\n",
      "freefall              4\n",
      "zl42                  3\n",
      "144a                  3\n",
      "toboggan              3\n",
      "topper                3\n",
      "blauer enzian         3\n"
     ]
    }
   ],
   "source": [
    "print(df['model'].value_counts().to_string())"
   ]
  },
  {
   "cell_type": "code",
   "execution_count": 98,
   "id": "56266622",
   "metadata": {},
   "outputs": [
    {
     "data": {
      "text/plain": [
       "Other                         250\n",
       "Cedar Point                    19\n",
       "Kings Island                   19\n",
       "Six Flags Magic Mountain       17\n",
       "Hersheypark                    16\n",
       "Six Flags Great Adventure      15\n",
       "Carowinds                      15\n",
       "Canada's Wonderland            14\n",
       "Alton Towers                   13\n",
       "Busch Gardens Williamsburg     12\n",
       "Kings Dominion                 12\n",
       "Blackpool Pleasure Beach       11\n",
       "Worlds of Fun                  10\n",
       "Morey's Piers                   9\n",
       "Busch Gardens Tampa Bay         9\n",
       "Kennywood                       9\n",
       "Six Flags Over Georgia          9\n",
       "Knott's Berry Farm              9\n",
       "Dreamworld                      8\n",
       "Nagashima Spa Land              8\n",
       "Name: Location, dtype: int64"
      ]
     },
     "execution_count": 98,
     "metadata": {},
     "output_type": "execute_result"
    }
   ],
   "source": [
    " df.loc[:, 'Location'].value_counts().head(20)"
   ]
  },
  {
   "cell_type": "code",
   "execution_count": 99,
   "id": "0fdf1668",
   "metadata": {},
   "outputs": [
    {
     "data": {
      "text/plain": [
       "Kings Island                  22\n",
       "Six Flags Magic Mountain      21\n",
       "Cedar Point                   20\n",
       "Six Flags Great Adventure     18\n",
       "Canada's Wonderland           16\n",
       "Hersheypark                   16\n",
       "Carowinds                     15\n",
       "Alton Towers                  13\n",
       "Busch Gardens Williamsburg    12\n",
       "Kings Dominion                12\n",
       "Blackpool Pleasure Beach      11\n",
       "Six Flags Great America       11\n",
       "Six Flags New England         11\n",
       "Valleyfair                    10\n",
       "Knott's Berry Farm            10\n",
       "Six Flags Over Georgia        10\n",
       "Worlds of Fun                 10\n",
       "Kentucky Kingdom               9\n",
       "Six Flags Over Texas           9\n",
       "Morey's Piers                  9\n",
       "Name: Location, dtype: int64"
      ]
     },
     "execution_count": 99,
     "metadata": {},
     "output_type": "execute_result"
    }
   ],
   "source": [
    "name = df.loc[:, 'coaster_name']\n",
    "location = df.loc[:, 'Location']\n",
    "\n",
    "location = location.replace('Other', np.nan)\n",
    "\n",
    "name = name.str.replace('(roller coaster)', '', regex=False)\n",
    "name = name.str.replace('()', '', regex=False)\n",
    "\n",
    "new_location = name.str.split('(').str[1].str[:-1]\n",
    "\n",
    "local_ind = location.isnull()\n",
    "\n",
    "location.loc[local_ind] = new_location.loc[local_ind]\n",
    "location.loc[location == ''] = np.nan\n",
    "\n",
    "location.value_counts().head(20)"
   ]
  },
  {
   "cell_type": "code",
   "execution_count": 100,
   "id": "8adbb1e6",
   "metadata": {},
   "outputs": [],
   "source": [
    "df.loc[:, 'location'] = location\n",
    "df.loc[:, 'name'] = name\n",
    "\n",
    "df = df.drop(['Location', 'coaster_name'], axis = 1)"
   ]
  },
  {
   "cell_type": "code",
   "execution_count": 102,
   "id": "36d9e7f3",
   "metadata": {},
   "outputs": [
    {
     "name": "stdout",
     "output_type": "stream",
     "text": [
      "<class 'pandas.core.frame.DataFrame'>\n",
      "RangeIndex: 1087 entries, 0 to 1086\n",
      "Data columns (total 46 columns):\n",
      " #   Column                         Non-Null Count  Dtype  \n",
      "---  ------                         --------------  -----  \n",
      " 0   Status                         874 non-null    object \n",
      " 1   Type                           1087 non-null   object \n",
      " 2   Manufacturer                   1028 non-null   object \n",
      " 3   Cost                           382 non-null    object \n",
      " 4   Park section                   487 non-null    object \n",
      " 5   Designer                       578 non-null    object \n",
      " 6   Fast Lane available            1087 non-null   object \n",
      " 7   Replaced                       1087 non-null   int64  \n",
      " 8   Fastrack available             1087 non-null   object \n",
      " 9   Replaced by                    1087 non-null   int64  \n",
      " 10  Website                        1087 non-null   object \n",
      " 11  Flash Pass Available           1087 non-null   object \n",
      " 12  Must transfer from wheelchair  1087 non-null   object \n",
      " 13  Theme                          44 non-null     object \n",
      " 14  Single rider line available    1087 non-null   object \n",
      " 15  Restraint Style                22 non-null     object \n",
      " 16  Flash Pass available           46 non-null     object \n",
      " 17  Acceleration                   60 non-null     object \n",
      " 18  Restraints                     24 non-null     object \n",
      " 19  Name                           35 non-null     object \n",
      " 20  year_introduced                1087 non-null   int64  \n",
      " 21  latitude                       812 non-null    float64\n",
      " 22  longitude                      812 non-null    float64\n",
      " 23  Type_Main                      1087 non-null   object \n",
      " 24  opening_date_clean             837 non-null    object \n",
      " 25  speed_mph                      937 non-null    float64\n",
      " 26  height_ft                      965 non-null    float64\n",
      " 27  Inversions_clean               1087 non-null   int64  \n",
      " 28  Gforce_clean                   362 non-null    float64\n",
      " 29  length_ft                      953 non-null    float64\n",
      " 30  fall_ft                        494 non-null    float64\n",
      " 31  max_angle                      357 non-null    float64\n",
      " 32  height_restriction_low         831 non-null    float64\n",
      " 33  height_restriction_up          96 non-null     float64\n",
      " 34  duration                       763 non-null    float64\n",
      " 35  riders_per_hour                575 non-null    float64\n",
      " 36  riders_per_train               716 non-null    float64\n",
      " 37  close_year                     236 non-null    float64\n",
      " 38  first_soft_open                1087 non-null   bool   \n",
      " 39  second_soft_open               1087 non-null   bool   \n",
      " 40  replaced                       1087 non-null   int64  \n",
      " 41  lift_launch                    804 non-null    object \n",
      " 42  track_layout                   366 non-null    object \n",
      " 43  model                          629 non-null    object \n",
      " 44  location                       915 non-null    object \n",
      " 45  name                           1087 non-null   object \n",
      "dtypes: bool(2), float64(14), int64(5), object(25)\n",
      "memory usage: 375.9+ KB\n"
     ]
    }
   ],
   "source": [
    "df.info()"
   ]
  },
  {
   "cell_type": "code",
   "execution_count": 101,
   "id": "32d07aff",
   "metadata": {},
   "outputs": [
    {
     "name": "stdout",
     "output_type": "stream",
     "text": [
      "Missing information:  16570\n",
      "Total information:  50002\n"
     ]
    }
   ],
   "source": [
    "print('Missing information: ', df.isnull().sum().sum())\n",
    "print('Total information: ', len(df) * len(df.columns))"
   ]
  },
  {
   "cell_type": "markdown",
   "id": "d007d8f3",
   "metadata": {},
   "source": [
    "<b>Number of columns: </b>46 <br>\n",
    "\n",
    "<b>Number of numerical features:</b>21 <br>\n",
    "\n",
    "<b>Number of categorical features (object): </b>25 <br>\n",
    "\n",
    "<b>Missing information: </b>16570 out of 50002 (33%) <br>\n",
    " \n",
    "<span style=\"color:red\"> <b> Lost Information: </b> </span> <br> Status minor details. <br>\n",
    "Some Track Layout and Roller Coaster model particularities and singularities. <br>\n",
    "Lift and Launch particularities. <br>"
   ]
  },
  {
   "cell_type": "markdown",
   "id": "4d047754",
   "metadata": {},
   "source": [
    "## 5. Drop Columns and Patterning Names"
   ]
  },
  {
   "cell_type": "markdown",
   "id": "3886be9f",
   "metadata": {},
   "source": [
    "Some features do not appear to be prominent or provide significant value for our analysis. Then, we have decided to exclude them from our analysis in order to focus on the most relevant ones. However, the `Cost` feature may be of interest to some users. Unfortunately, there are several challenges associated with using it, including a limited number of non-missing instances, different currencies (including some that no longer exist), and varying formats. Due to these challenges, we have decided to discard it.\n",
    "\n",
    "For users who are interested in working with the Cost feature, we recommend exploring the `cpi` and `CurrencyConverter` libraries. These tools may be helpful for converting different currencies and adjusting for inflation, which can help address some of the challenges associated with using this feature."
   ]
  },
  {
   "cell_type": "code",
   "execution_count": 105,
   "id": "19cc79da",
   "metadata": {},
   "outputs": [],
   "source": [
    "columns_rename = {'Status': 'status',\n",
    " 'Manufacturer': 'manufacturer',\n",
    " 'Designer': 'designer',\n",
    " 'Fast Lane available': 'fast_lane',\n",
    " 'Fastrack available': 'fast_track',\n",
    " 'Website': 'website',\n",
    " 'Flash Pass Available':'flash_pass',\n",
    " 'Must transfer from wheelchair': 'transfer_wheelchar',\n",
    " 'Theme':'theme',\n",
    " 'Single rider line available': 'single_line',\n",
    " 'year_introduced':'open_year',\n",
    " 'Type_Main':'type',\n",
    " 'speed_mph':'speed',\n",
    " 'height_ft':'height',\n",
    " 'Inversions_clean':'inversions',\n",
    " 'Gforce_clean':'gforce',\n",
    " 'length_ft':'length',\n",
    " 'fall_ft':'drop',\n",
    " 'height_restriction_low':'restriction_low',\n",
    " 'height_restriction_up':'restriction_up',\n",
    "}\n",
    "\n",
    "df = df.rename(columns_rename, axis=1)\n",
    "\n",
    "df.loc[:, 'speed'] *= 1.6 #km/h\n",
    "df.loc[:, 'length'] *= 0.3048 #meters\n",
    "df.loc[:, 'height'] *= 0.3048 #meters\n",
    "df.loc[:, 'drop'] *= 0.3048 #meters\n",
    "df.loc[:, 'restriction_low'] *= 0.01 #meters \n",
    "df.loc[:, 'restriction_up'] *= 0.01 #meters \n",
    "\n",
    "\n",
    "order = ['name', 'location', 'manufacturer', 'designer','type', 'model', 'track_layout', 'status',\n",
    " 'lift_launch', 'latitude', 'longitude', 'open_year', 'close_year', 'height', 'length', 'drop', 'max_angle', 'inversions',\n",
    " 'speed', 'restriction_low', 'restriction_up', 'gforce', 'duration', 'riders_per_hour', 'riders_per_train']\n",
    "\n",
    "df = df[order]"
   ]
  },
  {
   "cell_type": "code",
   "execution_count": 106,
   "id": "d95c8f9c",
   "metadata": {},
   "outputs": [],
   "source": [
    "df.to_csv('coaster_db_clean.csv', index = False)"
   ]
  },
  {
   "cell_type": "code",
   "execution_count": 107,
   "id": "b7224d71",
   "metadata": {},
   "outputs": [
    {
     "name": "stdout",
     "output_type": "stream",
     "text": [
      "<class 'pandas.core.frame.DataFrame'>\n",
      "RangeIndex: 1087 entries, 0 to 1086\n",
      "Data columns (total 25 columns):\n",
      " #   Column            Non-Null Count  Dtype  \n",
      "---  ------            --------------  -----  \n",
      " 0   name              1087 non-null   object \n",
      " 1   location          915 non-null    object \n",
      " 2   manufacturer      1028 non-null   object \n",
      " 3   designer          578 non-null    object \n",
      " 4   type              1087 non-null   object \n",
      " 5   model             629 non-null    object \n",
      " 6   track_layout      366 non-null    object \n",
      " 7   status            874 non-null    object \n",
      " 8   lift_launch       804 non-null    object \n",
      " 9   latitude          812 non-null    float64\n",
      " 10  longitude         812 non-null    float64\n",
      " 11  open_year         1087 non-null   int64  \n",
      " 12  close_year        236 non-null    float64\n",
      " 13  height            965 non-null    float64\n",
      " 14  length            953 non-null    float64\n",
      " 15  drop              494 non-null    float64\n",
      " 16  max_angle         357 non-null    float64\n",
      " 17  inversions        1087 non-null   int64  \n",
      " 18  speed             937 non-null    float64\n",
      " 19  restriction_low   831 non-null    float64\n",
      " 20  restriction_up    96 non-null     float64\n",
      " 21  gforce            362 non-null    float64\n",
      " 22  duration          763 non-null    float64\n",
      " 23  riders_per_hour   575 non-null    float64\n",
      " 24  riders_per_train  716 non-null    float64\n",
      "dtypes: float64(14), int64(2), object(9)\n",
      "memory usage: 212.4+ KB\n"
     ]
    }
   ],
   "source": [
    "df.info()"
   ]
  },
  {
   "cell_type": "code",
   "execution_count": 108,
   "id": "de800d76",
   "metadata": {},
   "outputs": [
    {
     "name": "stdout",
     "output_type": "stream",
     "text": [
      "Missing information:  8724\n",
      "Total information:  27175\n"
     ]
    }
   ],
   "source": [
    "print('Missing information: ', df.isnull().sum().sum())\n",
    "print('Total information: ', len(df) * len(df.columns))"
   ]
  },
  {
   "cell_type": "markdown",
   "id": "3386e76a",
   "metadata": {},
   "source": [
    "<b>Number of columns: </b>24 <br>\n",
    "\n",
    "<b>Number of numerical features:</b>15 <br>\n",
    "\n",
    "<b>Number of categorical features (object): </b>9 <br>\n",
    "\n",
    "<b>Missing information: </b>8724 out of 27175 (33%) <br>\n",
    " \n",
    "<span style=\"color:red\"> <b> Lost Information: </b> </span> <br> A Variety of features, including cost. <br>"
   ]
  },
  {
   "cell_type": "markdown",
   "id": "b1cf9c44",
   "metadata": {},
   "source": [
    "## 6. Conclusion"
   ]
  },
  {
   "cell_type": "markdown",
   "id": "d729a54e",
   "metadata": {},
   "source": [
    "The data wrangling process for the roller coaster dataset has been successfully completed. We started by exploring the dataset and identifying potential issues such as missing values, incorrect data types, and inconsistent formats. We then cleaned and transformed the data using various techniques such as imputation, conversion, and filtering. Through this process, we were able to address the initial issues with the dataset and prepare it for further analysis. While some features had to be discarded due to a lack of information or other challenges, the remaining features have been properly formatted and are ready to be used for further analysis. Overall, the successful completion of the data wrangling process ensures that our analysis of the roller coaster dataset will be based on accurate, reliable, and relevant data. We can now move forward with confidence, knowing that our analysis will be informed by high-quality data that has been carefully prepared and curated."
   ]
  }
 ],
 "metadata": {
  "kernelspec": {
   "display_name": "Python 3 (ipykernel)",
   "language": "python",
   "name": "python3"
  },
  "language_info": {
   "codemirror_mode": {
    "name": "ipython",
    "version": 3
   },
   "file_extension": ".py",
   "mimetype": "text/x-python",
   "name": "python",
   "nbconvert_exporter": "python",
   "pygments_lexer": "ipython3",
   "version": "3.9.13"
  }
 },
 "nbformat": 4,
 "nbformat_minor": 5
}
